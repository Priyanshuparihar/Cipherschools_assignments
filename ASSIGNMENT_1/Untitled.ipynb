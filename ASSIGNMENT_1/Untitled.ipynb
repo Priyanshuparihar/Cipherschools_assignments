{
 "cells": [
  {
   "cell_type": "code",
   "execution_count": 4,
   "metadata": {},
   "outputs": [
    {
     "name": "stdout",
     "output_type": "stream",
     "text": [
      "enter length of the list : 6\n",
      "enter elements :\n",
      "1\n",
      "23\n",
      "2\n",
      "1\n",
      "1\n",
      "3\n",
      "input : [1, 23, 2, 1, 1, 3]\n",
      "output [1, 2, 3, 23]\n"
     ]
    }
   ],
   "source": [
    "# Q1\n",
    "a=int(input(\"enter length of the list : \"))\n",
    "l=[]\n",
    "print(\"enter elements :\")\n",
    "for i in range(0,a):\n",
    "  ele=int(input())\n",
    "  l.append(ele)   \n",
    "print(\"input :\",l)\n",
    "l1=list(set(l))\n",
    "print(\"output\",l1)"
   ]
  },
  {
   "cell_type": "code",
   "execution_count": 6,
   "metadata": {},
   "outputs": [
    {
     "name": "stdout",
     "output_type": "stream",
     "text": [
      "enter length of the tuple: 8\n",
      "enter elements :\n",
      "12\n",
      "23\n",
      "21\n",
      "2\n",
      "1\n",
      "3\n",
      "4\n",
      "6\n",
      "input : (12, 23, 21, 2, 1, 3, 4, 6)\n",
      "length : 8\n",
      "sum: 72\n",
      "max :  23\n",
      "min :  1\n"
     ]
    }
   ],
   "source": [
    "#Q2\n",
    "a=int(input(\"enter length of the tuple: \"))\n",
    "l=[]\n",
    "print(\"enter elements :\")\n",
    "for i in range(0,a):\n",
    "  ele=int(input())\n",
    "  l.append(ele)\n",
    "t=tuple(l)\n",
    "print(\"input :\",t)\n",
    "print(\"length :\",len(t))\n",
    "print(\"sum:\",sum(t))\n",
    "print(\"max : \",max(t))\n",
    "print(\"min : \",min(t))"
   ]
  },
  {
   "cell_type": "markdown",
   "metadata": {},
   "source": []
  },
  {
   "cell_type": "code",
   "execution_count": 8,
   "metadata": {},
   "outputs": [
    {
     "name": "stdout",
     "output_type": "stream",
     "text": [
      "num :13\n",
      "i :1\n",
      "output :  15\n"
     ]
    }
   ],
   "source": [
    "# Q3\n",
    "num=int(input(\"num :\"))\n",
    "i=int(input(\"i :\"))\n",
    "magicalnum=1<<i\n",
    "n=num | magicalnum \n",
    "print(\"output : \",n)"
   ]
  },
  {
   "cell_type": "code",
   "execution_count": 10,
   "metadata": {},
   "outputs": [
    {
     "name": "stdout",
     "output_type": "stream",
     "text": [
      "enter number :12\n",
      "0\n"
     ]
    }
   ],
   "source": [
    "# Q4\n",
    "n=int(input(\"enter number :\"))\n",
    "op=1 if(n & 1 > 0) else 0 \n",
    "print(op)"
   ]
  },
  {
   "cell_type": "code",
   "execution_count": 11,
   "metadata": {},
   "outputs": [
    {
     "name": "stdout",
     "output_type": "stream",
     "text": [
      "length of A list: 4\n",
      "enter elements:\n",
      "1\n",
      "2\n",
      "3\n",
      "4\n",
      "length of B list : 2\n",
      "enter elements :\n",
      "3\n",
      "1\n",
      "sorted list is [1, 1, 2, 3, 3, 4]\n"
     ]
    }
   ],
   "source": [
    "# Q5\n",
    "A=int(input(\"length of A list: \"))\n",
    "l1=[]\n",
    "print(\"enter elements:\")\n",
    "for i in range(0,A):\n",
    "  ele=int(input())\n",
    "  l1.append(ele)\n",
    "b=int(input(\"length of B list : \"))\n",
    "l2=[]\n",
    "print(\"enter elements :\")\n",
    "for i in range(0,b):\n",
    "  e=int(input())\n",
    "  l2.append(e)\n",
    "merge_list=l1+l2\n",
    "s=sorted(merge_list)\n",
    "print(\"sorted list is\",s)"
   ]
  },
  {
   "cell_type": "code",
   "execution_count": 12,
   "metadata": {},
   "outputs": [
    {
     "name": "stdout",
     "output_type": "stream",
     "text": [
      "enter values :\n",
      "name of student :rohit\n",
      "marks of student :100\n",
      "name of student :rahul\n",
      "marks of student :12\n",
      "name of student :shubham\n",
      "marks of student :32\n",
      "name of student :priyanshu\n",
      "marks of student :45\n",
      "name of student :rakesh\n",
      "marks of student :67\n",
      "dictionary is: {'rohit': 100.0, 'rahul': 12.0, 'shubham': 32.0, 'priyanshu': 45.0, 'rakesh': 67.0}\n",
      "sorted dict is: {'rahul': 12.0, 'shubham': 32.0, 'priyanshu': 45.0, 'rakesh': 67.0, 'rohit': 100.0}\n"
     ]
    }
   ],
   "source": [
    "# Q6\n",
    "d1={}\n",
    "print(\"enter values :\") \n",
    "for a in range(0,5):\n",
    "  n=input(\"name of student :\")\n",
    "  m=float(input(\"marks of student :\"))\n",
    "  d1[n]=m\n",
    "print(\"dictionary is:\",d1)\n",
    "d2= sorted(d1.items(), key=lambda x: x[1])\n",
    "print(\"sorted dict is:\",dict(d2))\n"
   ]
  },
  {
   "cell_type": "code",
   "execution_count": null,
   "metadata": {},
   "outputs": [],
   "source": []
  }
 ],
 "metadata": {
  "kernelspec": {
   "display_name": "Python 3",
   "language": "python",
   "name": "python3"
  },
  "language_info": {
   "codemirror_mode": {
    "name": "ipython",
    "version": 3
   },
   "file_extension": ".py",
   "mimetype": "text/x-python",
   "name": "python",
   "nbconvert_exporter": "python",
   "pygments_lexer": "ipython3",
   "version": "3.7.6"
  }
 },
 "nbformat": 4,
 "nbformat_minor": 4
}
